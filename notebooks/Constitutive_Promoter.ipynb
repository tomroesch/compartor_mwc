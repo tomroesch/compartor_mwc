{
 "cells": [
  {
   "cell_type": "markdown",
   "id": "44c76109-1233-4840-a66a-8f3e9a3cc733",
   "metadata": {},
   "source": [
    "# Constitutive Promoter"
   ]
  },
  {
   "cell_type": "markdown",
   "id": "c9ed47b2-cece-486a-9b7b-4aca2034400b",
   "metadata": {},
   "source": [
    "© 2022 Tom Röschinger. This work is licensed under a <a href=\"https://creativecommons.org/licenses/by/4.0/\">Creative Commons Attribution License CC-BY 4.0</a>. All code contained herein is licensed under an <a href=\"https://opensource.org/licenses/MIT\">MIT license</a>"
   ]
  },
  {
   "cell_type": "markdown",
   "id": "85f86d7d-ed33-47cc-9426-bfe71fb233bd",
   "metadata": {},
   "source": [
    "***"
   ]
  },
  {
   "cell_type": "code",
   "execution_count": 1,
   "id": "4ad8b7f1-04f1-4950-9dd2-412c7258689e",
   "metadata": {},
   "outputs": [],
   "source": [
    "# initialize sympy printing (for latex output)\n",
    "from sympy import init_printing, Symbol\n",
    "init_printing()\n",
    "\n",
    "# import functions and classes for compartment models\n",
    "from compartor import *"
   ]
  },
  {
   "cell_type": "markdown",
   "id": "e1e633dd-1386-4462-9896-e05affd1a0e0",
   "metadata": {},
   "source": [
    "Here we are going to take a look at the constitutive promoter and try to use Compartor to get the dynamic equations for this system. Here we should have only one compartment. Let's assume mRNA gets produced at a constant rate $\\beta_m$ and degraded at rate $\\gamma_m$. That gives the kinetic equation\n",
    "\n",
    "$$\n",
    "\\frac{dm}{dt} = \\beta_m - \\gamma_m m\n",
    "$$"
   ]
  },
  {
   "cell_type": "code",
   "execution_count": 40,
   "id": "a533188b-84b0-45af-a630-1220b860d5ce",
   "metadata": {},
   "outputs": [
    {
     "data": {
      "image/png": "[encoded data removed]",
      "text/latex": [
       "$\\displaystyle \\left[x\\right]$"
      ],
      "text/plain": [
       "Compartment(x)"
      ]
     },
     "execution_count": 40,
     "metadata": {},
     "output_type": "execute_result"
    }
   ],
   "source": [
    "x = Content('x')\n",
    "Compartment(x)"
   ]
  },
  {
   "cell_type": "code",
   "execution_count": 42,
   "id": "d95c20d2-99f4-4b91-8c11-8dafc7a26421",
   "metadata": {},
   "outputs": [
    {
     "data": {
      "image/png": "[encoded data removed]",
      "text/latex": [
       "$\\displaystyle \\emptyset\\overset{h_{t}}{\\longrightarrow}\\left[x\\right],\\:h_{t} = \\pi_{F} \\beta_{m}$"
      ],
      "text/plain": [
       "TransitionClass(\"t\", EmptySet ---> [x], k=beta_m, g=1, pi=OutcomeDistribution(\\pi_F, <function OutcomeDistribution.Uniform.<locals>.expectation at 0x7f9d13d370d0>))"
      ]
     },
     "metadata": {},
     "output_type": "display_data"
    },
    {
     "data": {
      "image/png": "[encoded data removed]",
      "text/latex": [
       "$\\displaystyle \\left[x\\right]\\overset{h_{d}}{\\longrightarrow}\\left[\\left( -1,\\right) + x\\right],\\:h_{d} = \\gamma_{m} n{\\left(x \\right)}$"
      ],
      "text/plain": [
       "TransitionClass(\"d\", [x] ---> [(-1,) + x], k=gamma_m, g=1, pi=OutcomeDistribution(1, <function OutcomeDistribution.Identity.<locals>.<lambda> at 0x7f9d12066310>))"
      ]
     },
     "metadata": {},
     "output_type": "display_data"
    }
   ],
   "source": [
    "pi_F = OutcomeDistribution.Uniform(Symbol(\"\\pi_F\"), x[0], 0, 1)\n",
    "Creation = TransitionClass(  {}-to> [x], Symbol('beta_m'), name='t', pi=pi_F)\n",
    "Exit = TransitionClass( [x] -to> [x + (-1)], Symbol('gamma_m'), name='d')\n",
    "transitions=[Creation, Exit]\n",
    "display(Creation, Exit)"
   ]
  },
  {
   "cell_type": "code",
   "execution_count": 43,
   "id": "a6d3cddd-2e98-4d67-9010-4ed483ef0373",
   "metadata": {},
   "outputs": [
    {
     "data": {
      "image/png": "[encoded data removed]",
      "text/latex": [
       "$\\displaystyle \\left[ M^{0}, \\  {\\left(M^{0}\\right)}^{\\mathtt{\\text{2}}}, \\  M^{1}, \\  {\\left(M^{1}\\right)}^{\\mathtt{\\text{2}}}\\right]$"
      ],
      "text/plain": [
       "⎡                 2                      2   ⎤\n",
       "⎣Moment(0), Moment (0), Moment(1), Moment (1)⎦"
      ]
     },
     "metadata": {},
     "output_type": "display_data"
    }
   ],
   "source": [
    "moments = [\n",
    "    Moment(0),\n",
    "    Moment(0)**2,\n",
    "    Moment(1),\n",
    "    Moment(1)**2\n",
    "]\n",
    "display(moments)"
   ]
  },
  {
   "cell_type": "code",
   "execution_count": 45,
   "id": "e7b0e1e7-9641-4365-b206-ae76769b76bf",
   "metadata": {},
   "outputs": [
    {
     "data": {
      "text/markdown": [
       "Computed moment equations for desired moments $\\left< N\\right> $ and $\\left< M^{1}\\right> $."
      ],
      "text/plain": [
       "<IPython.core.display.Markdown object>"
      ]
     },
     "metadata": {},
     "output_type": "display_data"
    }
   ],
   "source": [
    "equations = automated_moment_equations(1, transitions)"
   ]
  },
  {
   "cell_type": "code",
   "execution_count": 46,
   "id": "ae6e4bde-885e-4997-bf2d-32f52955b553",
   "metadata": {},
   "outputs": [
    {
     "data": {
      "image/png": "[encoded data removed]",
      "text/latex": [
       "$\\displaystyle \\frac{d}{d t} \\left< N\\right>  = \\beta_{m}$"
      ],
      "text/plain": [
       "d                      \n",
       "──(Expectation(N)) = βₘ\n",
       "dt                     "
      ]
     },
     "metadata": {},
     "output_type": "display_data"
    },
    {
     "data": {
      "image/png": "[encoded data removed]",
      "text/latex": [
       "$\\displaystyle \\frac{d}{d t} \\left< M^{1}\\right>  = \\frac{\\beta_{m}}{2} - \\gamma_{m} \\left< N\\right> $"
      ],
      "text/plain": [
       "d                            βₘ                    \n",
       "──(Expectation(Moment(1))) = ── - γₘ⋅Expectation(N)\n",
       "dt                           2                     "
      ]
     },
     "metadata": {},
     "output_type": "display_data"
    }
   ],
   "source": [
    "display_moment_equations(equations)"
   ]
  },
  {
   "cell_type": "code",
   "execution_count": null,
   "id": "6a631523-7015-453c-a32e-3065241f2a6b",
   "metadata": {},
   "outputs": [],
   "source": []
  }
 ],
 "metadata": {
  "kernelspec": {
   "display_name": "compartor_env",
   "language": "python",
   "name": "compartor_env"
  },
  "language_info": {
   "codemirror_mode": {
    "name": "ipython",
    "version": 3
   },
   "file_extension": ".py",
   "mimetype": "text/x-python",
   "name": "python",
   "nbconvert_exporter": "python",
   "pygments_lexer": "ipython3",
   "version": "3.9.7"
  }
 },
 "nbformat": 4,
 "nbformat_minor": 5
}
